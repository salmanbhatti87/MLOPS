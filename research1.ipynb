{
  "cells": [
    {
      "cell_type": "code",
      "source": [
        "from google.colab import drive\n",
        "drive.mount('/content/drive')"
      ],
      "metadata": {
        "colab": {
          "base_uri": "https://localhost:8080/"
        },
        "id": "l_7Sem9n48oD",
        "outputId": "7f781151-e0ea-4ba9-bcba-21f6a64e659d"
      },
      "execution_count": null,
      "outputs": [
        {
          "output_type": "stream",
          "name": "stdout",
          "text": [
            "Drive already mounted at /content/drive; to attempt to forcibly remount, call drive.mount(\"/content/drive\", force_remount=True).\n"
          ]
        }
      ]
    },
    {
      "cell_type": "code",
      "source": [
        "%matplotlib inline\n",
        "import matplotlib.pyplot as plt\n",
        "import numpy as np\n",
        "\n",
        "import torch\n",
        "import torch.nn.functional as F\n",
        "\n",
        "from sklearn import datasets\n",
        "from sklearn import preprocessing\n",
        "from sklearn.model_selection import train_test_split\n",
        "from collections import Counter"
      ],
      "metadata": {
        "id": "16cUhd5BBhFM"
      },
      "execution_count": null,
      "outputs": []
    },
    {
      "cell_type": "code",
      "source": [
        "# Instantiate dataset class and assign to object\n",
        "iris = datasets.load_iris()\n",
        "\n",
        "# Load features and target\n",
        "# Take only 2 classes, and 2 features (sepal length/width)\n",
        "X = iris.data[:-50, :2]\n",
        "# For teaching the math rather than preprocessing techniques,\n",
        "# we'll be using this simple scaling method. However, you must\n",
        "# be cautious to scale your training/testing sets subsequently.\n",
        "X = preprocessing.scale(X)\n",
        "y = iris.target[:-50] "
      ],
      "metadata": {
        "id": "lY6Tq0nGBmUQ"
      },
      "execution_count": null,
      "outputs": []
    },
    {
      "cell_type": "code",
      "source": [
        "# 50 of each iris flower\n",
        "print(Counter(y))\n",
        "\n",
        "# Type of flower\n",
        "print(list(iris.target_names[:-1]))\n",
        "\n",
        "# Shape of features\n",
        "print(X.shape)"
      ],
      "metadata": {
        "colab": {
          "base_uri": "https://localhost:8080/"
        },
        "id": "RU5d_iQvB1qW",
        "outputId": "79e31389-ac08-4509-9878-a15a0e21e98e"
      },
      "execution_count": null,
      "outputs": [
        {
          "output_type": "stream",
          "name": "stdout",
          "text": [
            "Counter({0: 50, 1: 50})\n",
            "['setosa', 'versicolor']\n",
            "(100, 2)\n"
          ]
        }
      ]
    },
    {
      "cell_type": "code",
      "source": [
        "plt.scatter(X[:, 0], X[:, 1], c=y);"
      ],
      "metadata": {
        "colab": {
          "base_uri": "https://localhost:8080/",
          "height": 265
        },
        "id": "i3jdMgHhCELb",
        "outputId": "241d6d2d-80f2-4c64-ef2d-4db065fd4e2a"
      },
      "execution_count": null,
      "outputs": [
        {
          "output_type": "display_data",
          "data": {
            "text/plain": [
              "<Figure size 432x288 with 1 Axes>"
            ],
            "image/png": "[encoded data removed]"
          },
          "metadata": {
            "needs_background": "light"
          }
        }
      ]
    },
    {
      "cell_type": "code",
      "source": [
        "X_train, X_test, y_train, y_test = train_test_split(X, y, test_size=0.2)\n",
        "print(f'X train size: {X_train.shape}')\n",
        "print(f'X test size: {X_test.shape}')\n",
        "print(f'y train size: {y_train.shape}')\n",
        "print(f'y test size: {y_test.shape}')\n",
        "\n",
        "# Distribution of both classes are roughly equal using train_test_split function\n",
        "print(Counter(y_train))"
      ],
      "metadata": {
        "colab": {
          "base_uri": "https://localhost:8080/"
        },
        "id": "WSwRp9RoCL-e",
        "outputId": "6d3fbbca-85ff-4952-ed6e-65c65a9979a8"
      },
      "execution_count": null,
      "outputs": [
        {
          "output_type": "stream",
          "name": "stdout",
          "text": [
            "X train size: (80, 2)\n",
            "X test size: (20, 2)\n",
            "y train size: (80,)\n",
            "y test size: (20,)\n",
            "Counter({0: 41, 1: 39})\n"
          ]
        }
      ]
    },
    {
      "cell_type": "code",
      "source": [
        "num_epochs=10"
      ],
      "metadata": {
        "id": "mftC397jC5TL"
      },
      "execution_count": null,
      "outputs": []
    },
    {
      "cell_type": "code",
      "source": [
        "learning_rate = 0.1\n",
        "num_features = X.shape[1]\n",
        "weights = torch.zeros(num_features, 1, dtype=torch.float32)\n",
        "bias = torch.zeros(1, dtype=torch.float32)\n",
        "\n",
        "X_train = torch.from_numpy(X_train).type(torch.float32)\n",
        "y_train = torch.from_numpy(y_train).type(torch.float32)\n",
        "\n",
        "for epoch in range(num_epochs):        \n",
        "    # 1. Forwardpropagation:\n",
        "    # 1a. Affine Transformation: z = \\theta x + b\n",
        "    z = torch.add(torch.mm(X_train, weights), bias)\n",
        "    # 2a. Sigmoid/Logistic Function: y_hat = 1 / (1 + e^{-z})\n",
        "    y_hat = 1. / (1. + torch.exp(-z))\n",
        "\n",
        "    # Backpropagation:\n",
        "    # 1. Calculate binary cross entropy \n",
        "    l = torch.mm(-y_train.view(1, -1), torch.log(y_hat)) - torch.mm((1 - y_train).view(1, -1), torch.log(1 - y_hat))\n",
        "\n",
        "    # 2. Calculate dl/dz\n",
        "    dl_dz = y_train - y_hat.view(-1)\n",
        "\n",
        "    # 2. Calculate partial derivative of cost w.r.t weights (gradients)\n",
        "    # dl_dw = dl_dz dz_dw = (y_hat - y)(x^T)\n",
        "    grad = torch.mm(X_train.transpose(0, 1), dl_dz.view(-1, 1))\n",
        "\n",
        "    # Gradient descent:\n",
        "    # update our weights and bias with our gradients\n",
        "    weights += learning_rate * grad\n",
        "    bias += learning_rate * torch.sum(dl_dz)\n",
        "\n",
        "    # Accuracy\n",
        "    total = y_hat.shape[0]\n",
        "    predicted = (y_hat > 0.5).float().squeeze()\n",
        "    correct = (predicted == y_train).sum()\n",
        "    acc = 100 * correct / total \n",
        "\n",
        "    # Print accuracy and cost\n",
        "    print(f'Epoch: {epoch} | Accuracy: {acc.item() :.4f} | Cost: {l.item() :.4f}')\n",
        "\n",
        "print(f'Weights \\n {weights.data}')\n",
        "print(f'Bias \\n {bias.data}')"
      ],
      "metadata": {
        "colab": {
          "base_uri": "https://localhost:8080/"
        },
        "id": "jJeFnd6rCXVD",
        "outputId": "d895831b-5d9d-4e68-8c2c-f1bb5c933436"
      },
      "execution_count": null,
      "outputs": [
        {
          "output_type": "stream",
          "name": "stdout",
          "text": [
            "Epoch: 0 | Accuracy: 51.2500 | Cost: 55.4518\n",
            "Epoch: 1 | Accuracy: 98.7500 | Cost: 4.7067\n",
            "Epoch: 2 | Accuracy: 100.0000 | Cost: 4.1929\n",
            "Epoch: 3 | Accuracy: 100.0000 | Cost: 3.8130\n",
            "Epoch: 4 | Accuracy: 100.0000 | Cost: 3.5165\n",
            "Epoch: 5 | Accuracy: 100.0000 | Cost: 3.2762\n",
            "Epoch: 6 | Accuracy: 100.0000 | Cost: 3.0759\n",
            "Epoch: 7 | Accuracy: 100.0000 | Cost: 2.9053\n",
            "Epoch: 8 | Accuracy: 100.0000 | Cost: 2.7576\n",
            "Epoch: 9 | Accuracy: 100.0000 | Cost: 2.6280\n",
            "Weights \n",
            " tensor([[ 4.1825],\n",
            "        [-3.2213]])\n",
            "Bias \n",
            " tensor([0.2774])\n"
          ]
        }
      ]
    },
    {
      "cell_type": "code",
      "source": [
        "# Port to tensors\n",
        "X_test = torch.from_numpy(X_test).type(torch.float32)\n",
        "y_test = torch.from_numpy(y_test).type(torch.float32)\n",
        "\n",
        "# 1. Forwardpropagation:\n",
        "# 1a. Affine Transformation: z = ax + b\n",
        "z = torch.add(torch.mm(X_test, weights), bias)\n",
        "# 2a. Sigmoid/Logistic Function: y_hat = 1 / (1 + e^{-z})\n",
        "y_hat = 1. / (1. + torch.exp(-z))\n",
        "\n",
        "total = y_test.shape[0]\n",
        "predicted = (y_hat > 0.5).float().squeeze()\n",
        "correct = (predicted == y_test).sum()\n",
        "acc = 100 * correct / total \n",
        "\n",
        "# Print accuracy\n",
        "print(f'Validation Accuracy: {acc.item() :.4f}')"
      ],
      "metadata": {
        "colab": {
          "base_uri": "https://localhost:8080/"
        },
        "id": "sU3FNEnrC0sL",
        "outputId": "f4f6bc2b-1efe-4c97-9bae-8f301351c63a"
      },
      "execution_count": null,
      "outputs": [
        {
          "output_type": "stream",
          "name": "stdout",
          "text": [
            "Validation Accuracy: 100.0000\n"
          ]
        }
      ]
    }
  ],
  "metadata": {
    "colab": {
      "provenance": []
    },
    "kernelspec": {
      "display_name": "Python 3",
      "name": "python3"
    },
    "language_info": {
      "name": "python"
    }
  },
  "nbformat": 4,
  "nbformat_minor": 0
}